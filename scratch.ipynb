{
 "cells": [
  {
   "cell_type": "code",
   "execution_count": 1,
   "metadata": {},
   "outputs": [],
   "source": [
    "from dotenv import load_dotenv\n",
    "import os\n",
    "\n",
    "load_dotenv()\n",
    "ROBOFLOW_WORKSPACE_NAME = os.getenv(\"ROBOFLOW_WORKSPACE_NAME\")\n",
    "ROBOFLOW_WORKFLOW_ID = os.getenv(\"ROBOFLOW_WORKFLOW_ID\")\n",
    "ROBOFLOW_API_KEY = os.getenv(\"ROBOFLOW_API_KEY\")"
   ]
  },
  {
   "cell_type": "code",
   "execution_count": 2,
   "metadata": {},
   "outputs": [],
   "source": [
    "from inference_sdk import InferenceHTTPClient\n",
    "\n",
    "image_path = \"./dataset/inbody-example.jpg\"\n",
    "\n",
    "\n",
    "client = InferenceHTTPClient(\n",
    "    api_url=\"https://detect.roboflow.com\",\n",
    "    api_key=ROBOFLOW_API_KEY\n",
    ")\n",
    "\n",
    "result = client.run_workflow(\n",
    "    workspace_name=ROBOFLOW_WORKSPACE_NAME,\n",
    "    workflow_id=ROBOFLOW_WORKFLOW_ID,\n",
    "    images={\n",
    "        \"image\": image_path\n",
    "    },\n",
    "    use_cache=True\n",
    ")"
   ]
  },
  {
   "cell_type": "code",
   "execution_count": 3,
   "metadata": {},
   "outputs": [
    {
     "data": {
      "text/plain": [
       "[{'google_gemini': {'output': '{\"id\": \"3174175176\", \"test_date_time\": \"03.07.2025 08:47\", \"total_body_water\": \"129.0\", \"dry_lean_mass\": \"47.4\", \"body_fat_mass\": \"35.0\", \"weight\": \"211.4\", \"bmi\": \"28.7\", \"pbf\": \"16.6\", \"segmented_lean_analysis_left_arm_lbs\": \"10.58\", \"segmented_lean_analysis_left_arm_percentage\": \"126.9\", \"segmented_lean_analysis_right_arm_lbs\": \"10.54\", \"segmented_lean_analysis_right_arm_percentage\": \"126.3\", \"segmented_lean_analysis_left_leg_lbs\": \"25.51\", \"segmented_lean_analysis_left_leg_percentage\": \"109.9\", \"segmented_lean_analysis_right_leg_lbs\": \"25.38\", \"segmented_lean_analysis_right_leg_percentage\": \"109.3\", \"segmented_lean_analysis_trunk_lbs\": \"76.4\", \"segmented_lean_analysis_trunk_percentage\": \"114.9\", \"lean_body_mass\": \"176.4\"}',\n",
       "   'classes': None},\n",
       "  'json_parser': {'id': '3174175176',\n",
       "   'test_date_time': '03.07.2025 08:47',\n",
       "   'total_body_water': '129.0',\n",
       "   'dry_lean_mass': '47.4',\n",
       "   'body_fat_mass': '35.0',\n",
       "   'weight': '211.4',\n",
       "   'bmi': '28.7',\n",
       "   'pbf': '16.6',\n",
       "   'segmented_lean_analysis_left_arm_lbs': '10.58',\n",
       "   'segmented_lean_analysis_left_arm_percentage': '126.9',\n",
       "   'segmented_lean_analysis_right_arm_lbs': '10.54',\n",
       "   'segmented_lean_analysis_right_arm_percentage': '126.3',\n",
       "   'segmented_lean_analysis_left_leg_lbs': '25.51',\n",
       "   'segmented_lean_analysis_left_leg_percentage': '109.9',\n",
       "   'segmented_lean_analysis_right_leg_lbs': '25.38',\n",
       "   'segmented_lean_analysis_right_leg_percentage': '109.3',\n",
       "   'segmented_lean_analysis_trunk_lbs': '76.4',\n",
       "   'segmented_lean_analysis_trunk_percentage': '114.9',\n",
       "   'lean_body_mass': '176.4',\n",
       "   'error_status': False}}]"
      ]
     },
     "execution_count": 3,
     "metadata": {},
     "output_type": "execute_result"
    }
   ],
   "source": [
    "result"
   ]
  }
 ],
 "metadata": {
  "kernelspec": {
   "display_name": ".venv",
   "language": "python",
   "name": "python3"
  },
  "language_info": {
   "codemirror_mode": {
    "name": "ipython",
    "version": 3
   },
   "file_extension": ".py",
   "mimetype": "text/x-python",
   "name": "python",
   "nbconvert_exporter": "python",
   "pygments_lexer": "ipython3",
   "version": "3.12.0"
  }
 },
 "nbformat": 4,
 "nbformat_minor": 2
}
